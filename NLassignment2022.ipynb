{
  "cells": [
    {
      "cell_type": "markdown",
      "metadata": {
        "id": "view-in-github",
        "colab_type": "text"
      },
      "source": [
        "<a href=\"https://colab.research.google.com/github/Belac44/Deep-Learning/blob/main/NLassignment2022.ipynb\" target=\"_parent\"><img src=\"https://colab.research.google.com/assets/colab-badge.svg\" alt=\"Open In Colab\"/></a>"
      ]
    },
    {
      "cell_type": "markdown",
      "metadata": {
        "id": "f2S8I2ny-ovS"
      },
      "source": [
        "# NLE Assignment: Sentiment Classification\n",
        "\n",
        "In this assignment, you will be investigating NLP methods for distinguishing positive and negative reviews written about movies.\n",
        "\n",
        "For assessment, you are expected to complete and submit this notebook file.  When answers require code, you may import and use library functions (unless explicitly told otherwise).  All of your own code should be included in the notebook rather than imported from elsewhere.  Written answers should also be included in the notebook.  You should insert as many extra cells as you want and change the type between code and markdown as appropriate.\n",
        "\n",
        "In order to avoid misconduct, you should not talk about the assignment questions with your peers.  If you are not sure what a question is asking you to do or have any other questions, please ask me or one of the Teaching Assistants.\n",
        "\n",
        "Marking guidelines are provided as a separate document.\n",
        "\n",
        "The first few cells contain code to set-up the assignment and bring in some data.   In order to provide unique datasets for analysis by different students, you must enter your candidate number in the following cell.  Otherwise do not change the code in these cells."
      ]
    },
    {
      "cell_type": "code",
      "execution_count": 55,
      "metadata": {
        "id": "1gXQAZas-l9c"
      },
      "outputs": [],
      "source": [
        "candidateno=11111119 #this MUST be updated to your candidate number so that you get a unique data sample\n"
      ]
    },
    {
      "cell_type": "code",
      "execution_count": 56,
      "metadata": {
        "id": "nk8JTP88A8vs",
        "colab": {
          "base_uri": "https://localhost:8080/"
        },
        "outputId": "1093ab6e-adb4-4ca8-af90-d79f8a2ec6d7"
      },
      "outputs": [
        {
          "output_type": "stream",
          "name": "stderr",
          "text": [
            "[nltk_data] Downloading package punkt to /root/nltk_data...\n",
            "[nltk_data]   Package punkt is already up-to-date!\n",
            "[nltk_data] Downloading package stopwords to /root/nltk_data...\n",
            "[nltk_data]   Package stopwords is already up-to-date!\n",
            "[nltk_data] Downloading package movie_reviews to /root/nltk_data...\n",
            "[nltk_data]   Package movie_reviews is already up-to-date!\n"
          ]
        }
      ],
      "source": [
        "#do not change the code in this cell\n",
        "#preliminary imports\n",
        "\n",
        "#set up nltk\n",
        "import nltk\n",
        "nltk.download('punkt')\n",
        "nltk.download('stopwords')\n",
        "nltk.download('movie_reviews')\n",
        "from nltk.corpus import stopwords\n",
        "from nltk.tokenize import word_tokenize\n",
        "from nltk.corpus import movie_reviews\n",
        "\n",
        "#for setting up training and testing data\n",
        "import random\n",
        "\n",
        "#useful other tools\n",
        "import re\n",
        "import pandas as pd\n",
        "import matplotlib.pyplot as plt\n",
        "%matplotlib inline\n",
        "from itertools import zip_longest\n",
        "from nltk.probability import FreqDist\n",
        "from nltk.classify.api import ClassifierI\n"
      ]
    },
    {
      "cell_type": "code",
      "execution_count": 57,
      "metadata": {
        "id": "BHBkzAccCVaZ"
      },
      "outputs": [],
      "source": [
        "#do not change the code in this cell\n",
        "def split_data(data, ratio=0.7): # when the second argument is not given, it defaults to 0.7\n",
        "    \"\"\"\n",
        "    Given corpus generator and ratio:\n",
        "     - partitions the corpus into training data and test data, where the proportion in train is ratio,\n",
        "\n",
        "    :param data: A corpus generator.\n",
        "    :param ratio: The proportion of training documents (default 0.7)\n",
        "    :return: a pair (tuple) of lists where the first element of the \n",
        "            pair is a list of the training data and the second is a list of the test data.\n",
        "    \"\"\"\n",
        "    \n",
        "    data = list(data)  \n",
        "    n = len(data)  \n",
        "    train_indices = random.sample(range(n), int(n * ratio))          \n",
        "    test_indices = list(set(range(n)) - set(train_indices))    \n",
        "    train = [data[i] for i in train_indices]           \n",
        "    test = [data[i] for i in test_indices]             \n",
        "    return (train, test)                       \n",
        " \n",
        "\n",
        "def get_train_test_data():\n",
        "    \n",
        "    #get ids of positive and negative movie reviews\n",
        "    pos_review_ids=movie_reviews.fileids('pos')\n",
        "    neg_review_ids=movie_reviews.fileids('neg')\n",
        "   \n",
        "    #split positive and negative data into training and testing sets\n",
        "    pos_train_ids, pos_test_ids = split_data(pos_review_ids)\n",
        "    neg_train_ids, neg_test_ids = split_data(neg_review_ids)\n",
        "    #add labels to the data and concatenate\n",
        "    training = [(movie_reviews.words(f),'pos') for f in pos_train_ids]+[(movie_reviews.words(f),'neg') for f in neg_train_ids]\n",
        "    testing = [(movie_reviews.words(f),'pos') for f in pos_test_ids]+[(movie_reviews.words(f),'neg') for f in neg_test_ids]\n",
        "   \n",
        "    return training, testing"
      ]
    },
    {
      "cell_type": "markdown",
      "metadata": {
        "id": "1N3LWwBYICPP"
      },
      "source": [
        "When you have run the cell below, your unique training and testing samples will be stored in `training_data` and `testing_data`"
      ]
    },
    {
      "cell_type": "code",
      "execution_count": 58,
      "metadata": {
        "id": "HJLegkdPFUJA",
        "colab": {
          "base_uri": "https://localhost:8080/"
        },
        "outputId": "c40310ea-753f-4236-afa1-0d3bd5fcf408"
      },
      "outputs": [
        {
          "output_type": "stream",
          "name": "stdout",
          "text": [
            "The amount of training data is 1400\n",
            "The amount of testing data is 600\n",
            "The representation of a single data item is below\n",
            "(['razor', 'blade', 'smile', 'running', 'as', 'part', ...], 'pos')\n"
          ]
        }
      ],
      "source": [
        "#do not change the code in this cell\n",
        "random.seed(candidateno)\n",
        "training_data,testing_data=get_train_test_data()\n",
        "print(\"The amount of training data is {}\".format(len(training_data)))\n",
        "print(\"The amount of testing data is {}\".format(len(testing_data)))\n",
        "print(\"The representation of a single data item is below\")\n",
        "print(training_data[0])"
      ]
    },
    {
      "cell_type": "markdown",
      "metadata": {
        "id": "VE3bKQbB50Rq"
      },
      "source": [
        "1)  \n",
        "a) **Generate** a list of 10 content words which are representative of the positive reviews in your training data.\n",
        "\n",
        "b) **Generate** a list of 10 content words which are representative of the negative reviews in your training data.\n",
        "\n",
        "c) **Explain** what you have done and why\n",
        "\n",
        "[20\\%]"
      ]
    },
    {
      "cell_type": "code",
      "execution_count": 59,
      "metadata": {
        "id": "QkT9CWv250Rq",
        "colab": {
          "base_uri": "https://localhost:8080/"
        },
        "outputId": "edf50a4d-5160-4f36-b0e8-578a08309b0f"
      },
      "outputs": [
        {
          "output_type": "execute_result",
          "data": {
            "text/plain": [
              "['well',\n",
              " 'even',\n",
              " 'also',\n",
              " 'story',\n",
              " 'good',\n",
              " 'time',\n",
              " 'like',\n",
              " 'movie',\n",
              " 'one',\n",
              " 'film']"
            ]
          },
          "metadata": {},
          "execution_count": 59
        }
      ],
      "source": [
        "count_pos = {}\n",
        "stop_words = set(stopwords.words(\"english\"))\n",
        "import string\n",
        "\n",
        "for sent in training_data:\n",
        "  if sent[1] == 'pos':\n",
        "    gen_words = [word for word in sent[0] if word not in stop_words and word not in string.punctuation]\n",
        "    for word in gen_words:\n",
        "      try:\n",
        "        count_pos[word] += 1\n",
        "      except KeyError:\n",
        "        count_pos[word] = 0\n",
        "\n",
        "sorted_count_pos = sorted(count_pos.items(), key=lambda x: x[1])\n",
        "content_words_pos = [word[0] for word in sorted_count_pos[-10:]]\n",
        "content_words_pos"
      ]
    },
    {
      "cell_type": "code",
      "execution_count": 60,
      "metadata": {
        "id": "GQBi7JVR50Rr",
        "colab": {
          "base_uri": "https://localhost:8080/"
        },
        "outputId": "1df103be-cab3-481b-fc78-e318b5c00d47"
      },
      "outputs": [
        {
          "output_type": "execute_result",
          "data": {
            "text/plain": [
              "['get', 'bad', 'would', 'time', 'good', 'even', 'like', 'one', 'movie', 'film']"
            ]
          },
          "metadata": {},
          "execution_count": 60
        }
      ],
      "source": [
        "count = {}\n",
        "\n",
        "for sent in training_data:\n",
        "  if sent[1] == 'neg':\n",
        "    gen_words = [word for word in sent[0] if word not in stop_words and word not in string.punctuation]\n",
        "    for word in gen_words:\n",
        "      try:\n",
        "        count[word] += 1\n",
        "      except KeyError:\n",
        "        count[word] = 0\n",
        "\n",
        "sorted_count_neg = sorted(count.items(), key=lambda x: x[1])\n",
        "content_words_neg = [word[0] for word in sorted_count_neg[-10:]]\n",
        "content_words_neg"
      ]
    },
    {
      "cell_type": "code",
      "source": [
        "#Some words are present both in negative and positive content words\n",
        "#Lets drop them and add other such that we have unique words in each set\n",
        "# repeated_words = []\n",
        "# for word in content_words_pos:\n",
        "#   if word in content_words_neg:\n",
        "#     repeated_words.append(word)\n",
        "\n",
        "# print(repeated_words)\n",
        "\n",
        "# unrepeated_pos = [word for word in content_words_pos if word not in repeated_words]\n",
        "# unrepeated_neg = [word for word in content_words_neg if word not in repeated_words]\n",
        "\n",
        "# print(\"Pos:\", unrepeated_pos, \"Neg: \", unrepeated_neg)\n",
        "\n",
        "# i = 1\n",
        "# while len(unrepeated_pos) < 10 and len(unrepeated_neg) < 10:\n",
        "#   content_words_neg = [word[0] for word in sorted_count_neg[-10 - i:]]\n",
        "#   content_words_pos = [word[0] for word in sorted_count_pos[-10 - 1:]]\n",
        "\n",
        "#   repeated_words = []\n",
        "#   for word in content_words_pos:\n",
        "#     if word in content_words_neg:\n",
        "#       repeated_words.append(word)\n",
        "\n",
        "#   unrepeated_pos = [word for word in content_words_pos if word not in repeated_words]\n",
        "#   unrepeated_neg = [word for word in content_words_neg if word not in repeated_words]\n",
        "#   i+=1\n",
        "\n",
        "# print(unrepeated_pos, \"\\n\", unrepeated_neg)"
      ],
      "metadata": {
        "id": "RikJevI6vmxz"
      },
      "execution_count": 61,
      "outputs": []
    },
    {
      "cell_type": "markdown",
      "metadata": {
        "id": "Zljze_ZJ50Rt"
      },
      "source": []
    },
    {
      "cell_type": "markdown",
      "metadata": {
        "id": "TApOQE6vND20"
      },
      "source": [
        "2) \n",
        "a) **Use** the lists generated in Q1 to build a **word list classifier** which will classify reviews as being positive or negative.\n",
        "\n",
        "b) **Explain** what you have done.\n",
        "\n",
        "[12.5\\%]\n"
      ]
    },
    {
      "cell_type": "code",
      "execution_count": 95,
      "metadata": {
        "id": "BThDMrcmODJy"
      },
      "outputs": [],
      "source": [
        "import numpy as np\n",
        "\n",
        "def word_list_classifier(data):\n",
        "  \n",
        "  prediction = \"Neut\"\n",
        "\n",
        "  true_pos = 0\n",
        "  true_neg = 0\n",
        "  false_pos = 0\n",
        "  false_neg = 0\n",
        "\n",
        "  for sentence in data:\n",
        "    chance_pos = 0\n",
        "    chance_neg = 0\n",
        "    chance_neut = 0\n",
        "    for word in sentence[0]:\n",
        "      if word in content_words_neg and word in content_words_pos:\n",
        "        chance_neut += 1\n",
        "      elif word in content_words_neg:\n",
        "        chance_neg += 1\n",
        "      elif word in content_words_pos:\n",
        "        chance_pos += 1\n",
        "\n",
        "    if chance_neg > chance_pos:\n",
        "      prediction = \"neg\"\n",
        "\n",
        "      if sentence[1] == \"neg\":\n",
        "        true_neg += 1\n",
        "      elif sentence[1] == \"pos\":\n",
        "        false_pos += 1\n",
        "\n",
        "    elif chance_pos > chance_neg:\n",
        "      prediction = \"pos\"\n",
        "\n",
        "      if sentence[1] == \"pos\":\n",
        "        true_pos += 1\n",
        "      elif sentence[1] == \"neg\":\n",
        "        false_neg += 1\n",
        "\n",
        "    elif chance_pos == chance_neg:\n",
        "      prediction= \"pos\"\n",
        "\n",
        "      if sentence[1] == \"pos\":\n",
        "        true_pos += 1\n",
        "      elif sentence[1] == \"neg\":\n",
        "        false_neg += 1\n",
        "\n",
        "  print(\"True pos\", true_pos, \"True Negative\", true_neg, \"False pos\", false_pos, \"False neg\", false_neg)\n",
        "  return np.array([[true_pos, false_pos], [false_neg, true_neg]])\n"
      ]
    },
    {
      "cell_type": "code",
      "source": [
        "pred = word_list_classifier(training_data)\n",
        "pred"
      ],
      "metadata": {
        "colab": {
          "base_uri": "https://localhost:8080/"
        },
        "id": "mSg292BRNBxP",
        "outputId": "0ac7ba2f-9178-4c27-98ab-b1fb0bd39334"
      },
      "execution_count": 81,
      "outputs": [
        {
          "output_type": "stream",
          "name": "stdout",
          "text": [
            "True pos 517 True Negative 350 False pos 183 False neg 350\n"
          ]
        },
        {
          "output_type": "execute_result",
          "data": {
            "text/plain": [
              "array([[517, 183],\n",
              "       [350, 350]])"
            ]
          },
          "metadata": {},
          "execution_count": 81
        }
      ]
    },
    {
      "cell_type": "markdown",
      "metadata": {
        "id": "B6xxvcyr50Rv"
      },
      "source": []
    },
    {
      "cell_type": "markdown",
      "metadata": {
        "id": "dL1iL9jg50Rv"
      },
      "source": [
        "3)\n",
        "a) **Calculate** the accuracy, precision, recall and F1 score of your classifier.\n",
        "\n",
        "b) Is it reasonable to evaluate the classifier in terms of its accuracy?  **Explain** your answer and give a counter-example (a scenario where it would / would not be reasonable to evaluate the classifier in terms of its accuracy).\n",
        "\n",
        "[20\\%]"
      ]
    },
    {
      "cell_type": "code",
      "source": [
        "def accuracies(pred):\n",
        "  accuracy = ((pred[0][0] + pred[1][1])/len(training_data)) * 100\n",
        "  precision = (pred[0][0]/(pred[0][0] + pred[0][1])) * 100\n",
        "  recall = (pred[0][0]/(pred[0][0] + pred[1][0])) * 100\n",
        "  \n",
        "  return (accuracy, precision, recall)"
      ],
      "metadata": {
        "id": "6QX1Dqt081Vc"
      },
      "execution_count": 92,
      "outputs": []
    },
    {
      "cell_type": "code",
      "execution_count": 85,
      "metadata": {
        "id": "r1PrZnTe50Rw",
        "colab": {
          "base_uri": "https://localhost:8080/"
        },
        "outputId": "f9c7c426-19e6-453e-90d2-8bf6fa507c21"
      },
      "outputs": [
        {
          "output_type": "execute_result",
          "data": {
            "text/plain": [
              "61.92857142857143"
            ]
          },
          "metadata": {},
          "execution_count": 85
        }
      ],
      "source": [
        "#Accuracy\n",
        "#TP + TN/Total * 100\n",
        "((pred[0][0] + pred[1][1])/len(training_data)) * 100"
      ]
    },
    {
      "cell_type": "code",
      "execution_count": 88,
      "metadata": {
        "id": "Uq4Fmr8S50Rx",
        "colab": {
          "base_uri": "https://localhost:8080/"
        },
        "outputId": "76fddd1d-32d0-4e43-ce19-6ea95380cdd1"
      },
      "outputs": [
        {
          "output_type": "execute_result",
          "data": {
            "text/plain": [
              "73.85714285714286"
            ]
          },
          "metadata": {},
          "execution_count": 88
        }
      ],
      "source": [
        "#Precision\n",
        "#TP/(TP + FP)\n",
        "\n",
        "(pred[0][0]/(pred[0][0] + pred[0][1])) * 100"
      ]
    },
    {
      "cell_type": "code",
      "execution_count": 89,
      "metadata": {
        "id": "NJhRGovu50Ry",
        "colab": {
          "base_uri": "https://localhost:8080/"
        },
        "outputId": "d801dba0-fec3-41dd-b458-99411ff9d5d3"
      },
      "outputs": [
        {
          "output_type": "execute_result",
          "data": {
            "text/plain": [
              "59.63091118800461"
            ]
          },
          "metadata": {},
          "execution_count": 89
        }
      ],
      "source": [
        "#Recall \n",
        "#TP/(TP + FN)\n",
        "(pred[0][0]/(pred[0][0] + pred[1][0])) * 100"
      ]
    },
    {
      "cell_type": "markdown",
      "metadata": {
        "id": "0gHYwj0i50Ry"
      },
      "source": []
    },
    {
      "cell_type": "markdown",
      "metadata": {
        "id": "LIS9UpmJNEAp"
      },
      "source": [
        "4) \n",
        "a)  **Construct** a Naive Bayes classifier (e.g., from NLTK).\n",
        "\n",
        "b)  **Compare** the performance of your word list classifier with the Naive Bayes classifier.  **Discuss** your results. \n",
        "\n",
        "[12.5\\%]"
      ]
    },
    {
      "cell_type": "code",
      "execution_count": 91,
      "metadata": {
        "id": "hG4DSeqD50Rz",
        "colab": {
          "base_uri": "https://localhost:8080/"
        },
        "outputId": "a514a164-85ab-44e5-a227-0fd0425cde16"
      },
      "outputs": [
        {
          "output_type": "stream",
          "name": "stdout",
          "text": [
            "Classifier accuracy percent: 85.0\n"
          ]
        }
      ],
      "source": [
        "documents = [(list(movie_reviews.words(fileid)), category)\n",
        "             for category in movie_reviews.categories()\n",
        "             for fileid in movie_reviews.fileids(category)]\n",
        "\n",
        "random.shuffle(documents)\n",
        "\n",
        "all_words = []\n",
        "\n",
        "for w in movie_reviews.words():\n",
        "    all_words.append(w.lower())\n",
        "\n",
        "all_words = nltk.FreqDist(all_words)\n",
        "\n",
        "word_features = list(all_words.keys())[:3000]\n",
        "\n",
        "def find_features(document):\n",
        "    words = set(document)\n",
        "    features = {}\n",
        "    for w in word_features:\n",
        "        features[w] = (w in words)\n",
        "\n",
        "    return features\n",
        "\n",
        "featuresets = [(find_features(rev), category) for (rev, category) in documents]\n",
        "\n",
        "# set that we'll train our classifier with\n",
        "training_set = featuresets[:1900]\n",
        "\n",
        "# set that we'll test against.\n",
        "testing_set = featuresets[1900:]\n",
        "\n",
        "classifier = nltk.NaiveBayesClassifier.train(training_set)\n",
        "\n",
        "print(\"Classifier accuracy percent:\",(nltk.classify.accuracy(classifier, testing_set))*100)"
      ]
    },
    {
      "cell_type": "markdown",
      "metadata": {
        "id": "xfuYer9U50Rz"
      },
      "source": []
    },
    {
      "cell_type": "markdown",
      "metadata": {
        "id": "LGDXaVDqOSfY"
      },
      "source": [
        "5) \n",
        "a) Design and **carry out an experiment** into the impact of the **length of the wordlists** on the wordlist classifier.  Make sure you **describe** design decisions in your experiment, include a **graph** of your results and **discuss** your conclusions. \n",
        "\n",
        "b) Would you **recommend** a wordlist classifier or a Naive Bayes classifier for future work in this area?  **Justify** your answer.\n",
        "\n",
        "[25\\%]\n"
      ]
    },
    {
      "cell_type": "markdown",
      "metadata": {
        "id": "5PVBBPhh50R0"
      },
      "source": []
    },
    {
      "cell_type": "code",
      "execution_count": 100,
      "metadata": {
        "id": "9tBhqZtw50R1",
        "colab": {
          "base_uri": "https://localhost:8080/"
        },
        "outputId": "04427699-c15a-495e-dcb4-4ccb8dffd4ff"
      },
      "outputs": [
        {
          "output_type": "stream",
          "name": "stdout",
          "text": [
            "True pos 502 True Negative 434 False pos 198 False neg 266\n",
            "Accuracy: 66.85714285714286 Precision: 71.71428571428572 Recall 65.36458333333334\n"
          ]
        }
      ],
      "source": [
        "content_words_neg = [word[0] for word in sorted_count_neg[-135:]]\n",
        "content_words_pos = [word[0] for word in sorted_count_pos[-135:]]\n",
        "\n",
        "pred = word_list_classifier(training_data)\n",
        "accuracy, precision, recall = accuracies(pred)\n",
        "print(\"Accuracy:\", accuracy,\"Precision:\", precision, \"Recall\", recall)"
      ]
    },
    {
      "cell_type": "code",
      "execution_count": null,
      "metadata": {
        "id": "J1ozKYMa50R1"
      },
      "outputs": [],
      "source": []
    },
    {
      "cell_type": "code",
      "execution_count": null,
      "metadata": {
        "id": "vzN_HIuC50R1"
      },
      "outputs": [],
      "source": []
    },
    {
      "cell_type": "markdown",
      "metadata": {
        "id": "nYZVd15L50R2"
      },
      "source": []
    },
    {
      "cell_type": "code",
      "execution_count": null,
      "metadata": {
        "colab": {
          "base_uri": "https://localhost:8080/",
          "height": 235
        },
        "id": "34rdlS_iPov6",
        "outputId": "15f3619a-8be6-4822-a202-cb5e6d66d00a"
      },
      "outputs": [
        {
          "output_type": "error",
          "ename": "FileNotFoundError",
          "evalue": "ignored",
          "traceback": [
            "\u001b[0;31m---------------------------------------------------------------------------\u001b[0m",
            "\u001b[0;31mFileNotFoundError\u001b[0m                         Traceback (most recent call last)",
            "\u001b[0;32m<ipython-input-34-d25461830594>\u001b[0m in \u001b[0;36m<module>\u001b[0;34m\u001b[0m\n\u001b[1;32m      9\u001b[0m \u001b[0mquestion_count\u001b[0m\u001b[0;34m=\u001b[0m\u001b[0;36m437\u001b[0m\u001b[0;34m\u001b[0m\u001b[0;34m\u001b[0m\u001b[0m\n\u001b[1;32m     10\u001b[0m \u001b[0;34m\u001b[0m\u001b[0m\n\u001b[0;32m---> 11\u001b[0;31m \u001b[0;32mwith\u001b[0m \u001b[0mio\u001b[0m\u001b[0;34m.\u001b[0m\u001b[0mopen\u001b[0m\u001b[0;34m(\u001b[0m\u001b[0mfilepath\u001b[0m\u001b[0;34m,\u001b[0m \u001b[0;34m'r'\u001b[0m\u001b[0;34m,\u001b[0m \u001b[0mencoding\u001b[0m\u001b[0;34m=\u001b[0m\u001b[0;34m'utf-8'\u001b[0m\u001b[0;34m)\u001b[0m \u001b[0;32mas\u001b[0m \u001b[0mf\u001b[0m\u001b[0;34m:\u001b[0m\u001b[0;34m\u001b[0m\u001b[0;34m\u001b[0m\u001b[0m\n\u001b[0m\u001b[1;32m     12\u001b[0m     \u001b[0mnb\u001b[0m \u001b[0;34m=\u001b[0m \u001b[0mcurrent\u001b[0m\u001b[0;34m.\u001b[0m\u001b[0mread\u001b[0m\u001b[0;34m(\u001b[0m\u001b[0mf\u001b[0m\u001b[0;34m,\u001b[0m \u001b[0;34m'json'\u001b[0m\u001b[0;34m)\u001b[0m\u001b[0;34m\u001b[0m\u001b[0;34m\u001b[0m\u001b[0m\n\u001b[1;32m     13\u001b[0m \u001b[0;34m\u001b[0m\u001b[0m\n",
            "\u001b[0;31mFileNotFoundError\u001b[0m: [Errno 2] No such file or directory: 'NLassignment2021.ipynb'"
          ]
        }
      ],
      "source": [
        "##This code will word count all of the markdown cells in the notebook saved at filepath\n",
        "##Running it before providing any answers shows that the questions have a word count of 437\n",
        "\n",
        "import io\n",
        "from nbformat import current\n",
        "\n",
        "#filepath=\"/content/drive/My Drive/NLE Notebooks/assessment/assignment1.ipynb\"\n",
        "filepath=\"NLassignment2021.ipynb\"\n",
        "question_count=437\n",
        "\n",
        "with io.open(filepath, 'r', encoding='utf-8') as f:\n",
        "    nb = current.read(f, 'json')\n",
        "\n",
        "word_count = 0\n",
        "for cell in nb.worksheets[0].cells:\n",
        "    if cell.cell_type == \"markdown\":\n",
        "        word_count += len(cell['source'].replace('#', '').lstrip().split(' '))\n",
        "print(\"Submission length is {}\".format(word_count-question_count))"
      ]
    },
    {
      "cell_type": "code",
      "execution_count": null,
      "metadata": {
        "id": "PtqCcG6wPsmf"
      },
      "outputs": [],
      "source": []
    }
  ],
  "metadata": {
    "colab": {
      "provenance": [],
      "collapsed_sections": [],
      "include_colab_link": true
    },
    "kernelspec": {
      "display_name": "Python 3",
      "language": "python",
      "name": "python3"
    },
    "language_info": {
      "codemirror_mode": {
        "name": "ipython",
        "version": 3
      },
      "file_extension": ".py",
      "mimetype": "text/x-python",
      "name": "python",
      "nbconvert_exporter": "python",
      "pygments_lexer": "ipython3",
      "version": "3.7.4"
    }
  },
  "nbformat": 4,
  "nbformat_minor": 0
}